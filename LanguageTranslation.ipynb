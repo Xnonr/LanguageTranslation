{
 "cells": [
  {
   "cell_type": "code",
   "execution_count": null,
   "id": "faf2bd37",
   "metadata": {},
   "outputs": [],
   "source": [
    "# Based off of the original language translation tutorial by Nicholas Renotte\n",
    "# URL Link: https://www.youtube.com/watch?v=_jLRKUuBUtY"
   ]
  },
  {
   "cell_type": "code",
   "execution_count": 1,
   "id": "8caa13e1",
   "metadata": {},
   "outputs": [
    {
     "name": "stdout",
     "output_type": "stream",
     "text": [
      "Collecting ibm_watson\n",
      "  Downloading ibm-watson-5.3.1.tar.gz (413 kB)\n",
      "\u001b[K     |████████████████████████████████| 413 kB 1.2 MB/s eta 0:00:01\n",
      "\u001b[?25h  Installing build dependencies ... \u001b[?25ldone\n",
      "\u001b[?25h  Getting requirements to build wheel ... \u001b[?25ldone\n",
      "\u001b[?25h    Preparing wheel metadata ... \u001b[?25ldone\n",
      "\u001b[?25hRequirement already satisfied: python-dateutil>=2.5.3 in /usr/lib/python3/dist-packages (from ibm_watson) (2.7.3)\n",
      "Collecting websocket-client==1.1.0\n",
      "  Downloading websocket_client-1.1.0-py2.py3-none-any.whl (68 kB)\n",
      "\u001b[K     |████████████████████████████████| 68 kB 5.9 MB/s eta 0:00:01\n",
      "\u001b[?25hCollecting ibm-cloud-sdk-core==3.*,>=3.3.6\n",
      "  Downloading ibm-cloud-sdk-core-3.14.0.tar.gz (50 kB)\n",
      "\u001b[K     |████████████████████████████████| 50 kB 5.8 MB/s eta 0:00:011\n",
      "\u001b[?25hRequirement already satisfied: requests<3.0,>=2.0 in /usr/lib/python3/dist-packages (from ibm_watson) (2.22.0)\n",
      "Collecting PyJWT<3.0.0,>=2.0.1\n",
      "  Downloading PyJWT-2.3.0-py3-none-any.whl (16 kB)\n",
      "Collecting urllib3<2.0.0,>=1.26.0\n",
      "  Downloading urllib3-1.26.8-py2.py3-none-any.whl (138 kB)\n",
      "\u001b[K     |████████████████████████████████| 138 kB 9.9 MB/s eta 0:00:01\n",
      "\u001b[?25hBuilding wheels for collected packages: ibm-watson, ibm-cloud-sdk-core\n",
      "  Building wheel for ibm-watson (PEP 517) ... \u001b[?25ldone\n",
      "\u001b[?25h  Created wheel for ibm-watson: filename=ibm_watson-5.3.1-py3-none-any.whl size=409192 sha256=ddfa17b622f7cee623c3037278e39aecf15c3a9b24e9cfe73275521bfd5c4c79\n",
      "  Stored in directory: /home/maxbrette/.cache/pip/wheels/75/6b/79/2448b483fff5fdbea4d69f69bddda57ba8446c019526ed5b48\n",
      "  Building wheel for ibm-cloud-sdk-core (setup.py) ... \u001b[?25ldone\n",
      "\u001b[?25h  Created wheel for ibm-cloud-sdk-core: filename=ibm_cloud_sdk_core-3.14.0-py3-none-any.whl size=83263 sha256=388cdbf69be54e6cd1a59e95c14aac1690b14457ee926adac8759dee77bc3b64\n",
      "  Stored in directory: /home/maxbrette/.cache/pip/wheels/b0/27/4e/92d4afe79bda771fbda4061d6dc9ac5145b7945cb63abc6173\n",
      "Successfully built ibm-watson ibm-cloud-sdk-core\n",
      "\u001b[31mERROR: ibm-cloud-sdk-core 3.14.0 has requirement requests<3.0.0,>=2.26.0, but you'll have requests 2.22.0 which is incompatible.\u001b[0m\n",
      "Installing collected packages: websocket-client, PyJWT, urllib3, ibm-cloud-sdk-core, ibm-watson\n",
      "Successfully installed PyJWT-2.3.0 ibm-cloud-sdk-core-3.14.0 ibm-watson-5.3.1 urllib3-1.26.8 websocket-client-1.1.0\n"
     ]
    }
   ],
   "source": [
    "# Install IBM Watson\n",
    "#!pip install ibm_watson"
   ]
  },
  {
   "cell_type": "code",
   "execution_count": 6,
   "id": "ec1e2d8d",
   "metadata": {},
   "outputs": [],
   "source": [
    "# Authenticate\n",
    "apiKey = 'gYCnKPPwChOYPjuFAqg4S4Mx7TXJuEEwuVFTeaHUcJXL'\n",
    "url = 'https://api.us-south.language-translator.watson.cloud.ibm.com/instances/0de5f129-68a8-4924-90e1-0b506ab92153'"
   ]
  },
  {
   "cell_type": "code",
   "execution_count": 3,
   "id": "882aa4de",
   "metadata": {},
   "outputs": [],
   "source": [
    "# Import Dependencies\n",
    "from ibm_watson import LanguageTranslatorV3\n",
    "from ibm_cloud_sdk_core.authenticators import IAMAuthenticator"
   ]
  },
  {
   "cell_type": "code",
   "execution_count": 8,
   "id": "5e9198a1",
   "metadata": {},
   "outputs": [],
   "source": [
    "# Setup Service\n",
    "authenticator = IAMAuthenticator(apiKey)\n",
    "lt = LanguageTranslatorV3(version = '2018-05-01', authenticator = authenticator)\n",
    "lt.set_service_url(url)"
   ]
  },
  {
   "cell_type": "code",
   "execution_count": 9,
   "id": "3164b146",
   "metadata": {},
   "outputs": [],
   "source": [
    "#Translate\n",
    "translation = lt.translate(text = 'Hello World', model_id = 'en-de').get_result()"
   ]
  },
  {
   "cell_type": "code",
   "execution_count": 10,
   "id": "9b408e92",
   "metadata": {},
   "outputs": [
    {
     "data": {
      "text/plain": [
       "{'translations': [{'translation': 'Hallo Welt'}],\n",
       " 'word_count': 2,\n",
       " 'character_count': 11}"
      ]
     },
     "execution_count": 10,
     "metadata": {},
     "output_type": "execute_result"
    }
   ],
   "source": [
    "translation"
   ]
  },
  {
   "cell_type": "code",
   "execution_count": 14,
   "id": "739db4f7",
   "metadata": {
    "scrolled": false
   },
   "outputs": [
    {
     "data": {
      "text/plain": [
       "'Hallo Welt'"
      ]
     },
     "execution_count": 14,
     "metadata": {},
     "output_type": "execute_result"
    }
   ],
   "source": [
    "translation['translations'][0]['translation']"
   ]
  },
  {
   "cell_type": "code",
   "execution_count": 12,
   "id": "a663a909",
   "metadata": {},
   "outputs": [],
   "source": [
    "#Identify Languages\n",
    "language = lt.identify('Thi is a regular sentence.').get_result()"
   ]
  },
  {
   "cell_type": "code",
   "execution_count": 13,
   "id": "dcab9a71",
   "metadata": {
    "scrolled": true
   },
   "outputs": [
    {
     "data": {
      "text/plain": [
       "{'languages': [{'language': 'en', 'confidence': 0.9993858356360869},\n",
       "  {'language': 'pt', 'confidence': 0.00027930382909421093},\n",
       "  {'language': 'hu', 'confidence': 8.411434084605898e-05},\n",
       "  {'language': 'ca', 'confidence': 8.130256959077438e-05},\n",
       "  {'language': 'es', 'confidence': 6.443325227419634e-05},\n",
       "  {'language': 'ga', 'confidence': 4.272562687914149e-05},\n",
       "  {'language': 'ro', 'confidence': 1.3197052581265254e-05},\n",
       "  {'language': 'it', 'confidence': 6.802969184238874e-06},\n",
       "  {'language': 'fr', 'confidence': 6.774646741192115e-06},\n",
       "  {'language': 'nn', 'confidence': 5.056633766999884e-06},\n",
       "  {'language': 'tr', 'confidence': 4.739400458445014e-06},\n",
       "  {'language': 'mt', 'confidence': 4.143163710266392e-06},\n",
       "  {'language': 'cs', 'confidence': 3.2436921010583127e-06},\n",
       "  {'language': 'eo', 'confidence': 1.918362616765574e-06},\n",
       "  {'language': 'nb', 'confidence': 1.8122716633799796e-06},\n",
       "  {'language': 'af', 'confidence': 1.7776458361622324e-06},\n",
       "  {'language': 'ms', 'confidence': 1.6712410979923883e-06},\n",
       "  {'language': 'nl', 'confidence': 1.2747651659751245e-06},\n",
       "  {'language': 'tl', 'confidence': 1.2456746098626479e-06},\n",
       "  {'language': 'vi', 'confidence': 1.0402717389581982e-06},\n",
       "  {'language': 'sv', 'confidence': 9.223544938638637e-07},\n",
       "  {'language': 'sq', 'confidence': 8.035006848769294e-07},\n",
       "  {'language': 'de', 'confidence': 6.668116542859095e-07},\n",
       "  {'language': 'sl', 'confidence': 6.551684832665239e-07},\n",
       "  {'language': 'sk', 'confidence': 6.275520835923834e-07},\n",
       "  {'language': 'hr', 'confidence': 5.112896875233707e-07},\n",
       "  {'language': 'is', 'confidence': 4.989835500748776e-07},\n",
       "  {'language': 'ht', 'confidence': 3.85479581005157e-07},\n",
       "  {'language': 'ku', 'confidence': 3.7459346603288854e-07},\n",
       "  {'language': 'et', 'confidence': 3.6479738490380017e-07},\n",
       "  {'language': 'da', 'confidence': 3.286657740363079e-07},\n",
       "  {'language': 'lv', 'confidence': 2.914944368714784e-07},\n",
       "  {'language': 'cy', 'confidence': 2.6564827889341647e-07},\n",
       "  {'language': 'pl', 'confidence': 2.0398814789807697e-07},\n",
       "  {'language': 'lt', 'confidence': 2.0091299631825993e-07},\n",
       "  {'language': 'az', 'confidence': 1.9749521260939932e-07},\n",
       "  {'language': 'eu', 'confidence': 1.2312818690185708e-07},\n",
       "  {'language': 'so', 'confidence': 7.373421774366574e-08},\n",
       "  {'language': 'fi', 'confidence': 3.411017868391003e-08},\n",
       "  {'language': 'zh', 'confidence': 2.0736620111351686e-08},\n",
       "  {'language': 'zh-TW', 'confidence': 2.023172638240416e-08},\n",
       "  {'language': 'ja', 'confidence': 3.6861093966934746e-09},\n",
       "  {'language': 'ko', 'confidence': 3.4081991410198986e-09},\n",
       "  {'language': 'th', 'confidence': 2.4630817135408154e-09},\n",
       "  {'language': 'el', 'confidence': 1.9378406816846324e-09},\n",
       "  {'language': 'ru', 'confidence': 7.382653575357123e-10},\n",
       "  {'language': 'hi', 'confidence': 6.57360564205124e-10},\n",
       "  {'language': 'sr', 'confidence': 5.75164631127479e-10},\n",
       "  {'language': 'ar', 'confidence': 3.3812125050048217e-10},\n",
       "  {'language': 'mn', 'confidence': 3.043791989614066e-10},\n",
       "  {'language': 'he', 'confidence': 2.346376325947202e-10},\n",
       "  {'language': 'mr', 'confidence': 2.305404689856185e-10},\n",
       "  {'language': 'ka', 'confidence': 1.7457301701503352e-10},\n",
       "  {'language': 'ur', 'confidence': 1.1738955683546317e-10},\n",
       "  {'language': 'my', 'confidence': 1.084018027539178e-10},\n",
       "  {'language': 'km', 'confidence': 1.0508171757159711e-10},\n",
       "  {'language': 'bg', 'confidence': 1.0496647452308593e-10},\n",
       "  {'language': 'be', 'confidence': 1.0486958901980807e-10},\n",
       "  {'language': 'lo', 'confidence': 1.043778194576547e-10},\n",
       "  {'language': 'uk', 'confidence': 1.021379186366549e-10},\n",
       "  {'language': 'kk', 'confidence': 8.890305124266528e-11},\n",
       "  {'language': 'ky', 'confidence': 7.267413548477279e-11},\n",
       "  {'language': 'ps', 'confidence': 6.247309956340399e-11},\n",
       "  {'language': 'ta', 'confidence': 6.019650952511425e-11},\n",
       "  {'language': 'ml', 'confidence': 5.7910054127240485e-11},\n",
       "  {'language': 'bn', 'confidence': 5.78642241039031e-11},\n",
       "  {'language': 'fa', 'confidence': 5.036659332365455e-11},\n",
       "  {'language': 'hy', 'confidence': 4.8778648510892143e-11},\n",
       "  {'language': 'te', 'confidence': 4.848387337301478e-11},\n",
       "  {'language': 'cv', 'confidence': 4.658609863260861e-11},\n",
       "  {'language': 'pa', 'confidence': 4.12183900245065e-11},\n",
       "  {'language': 'ba', 'confidence': 3.967850020309761e-11},\n",
       "  {'language': 'si', 'confidence': 3.207724528408804e-11},\n",
       "  {'language': 'ne', 'confidence': 3.0897359377418614e-11},\n",
       "  {'language': 'gu', 'confidence': 3.010972752852556e-11},\n",
       "  {'language': 'pa-PK', 'confidence': 1.339484482735816e-11}]}"
      ]
     },
     "execution_count": 13,
     "metadata": {},
     "output_type": "execute_result"
    }
   ],
   "source": [
    "language"
   ]
  },
  {
   "cell_type": "code",
   "execution_count": 18,
   "id": "a051a924",
   "metadata": {},
   "outputs": [],
   "source": [
    "# AI Travel Guide\n",
    "\n",
    "textToSpeechApiKey = '_BlT2vPZsX1Cp2q7reQ_zAcJJYu44ZnOCqFRghXJYyj7'\n",
    "textToSpeechUrl = 'https://api.us-south.text-to-speech.watson.cloud.ibm.com/instances/bd261e27-6c02-418e-ab8d-53a7b155815b'"
   ]
  },
  {
   "cell_type": "code",
   "execution_count": 19,
   "id": "d5f19e34",
   "metadata": {},
   "outputs": [],
   "source": [
    "#Import Dependencies\n",
    "from ibm_watson import TextToSpeechV1"
   ]
  },
  {
   "cell_type": "code",
   "execution_count": 20,
   "id": "ffc8b2db",
   "metadata": {},
   "outputs": [],
   "source": [
    "# Authenticate\n",
    "textToSpeechAuthenticator = IAMAuthenticator(textToSpeechApiKey)\n",
    "textToSpeech = TextToSpeechV1(authenticator = textToSpeechAuthenticator)\n",
    "textToSpeech.set_service_url(textToSpeechUrl)"
   ]
  },
  {
   "cell_type": "code",
   "execution_count": 21,
   "id": "508e7fc5",
   "metadata": {},
   "outputs": [],
   "source": [
    "translation = lt.translate(text = 'We are sinking! Please send help!', model_id = 'en-de').get_result()"
   ]
  },
  {
   "cell_type": "code",
   "execution_count": 22,
   "id": "fdda2d6a",
   "metadata": {},
   "outputs": [
    {
     "data": {
      "text/plain": [
       "'Wir sinken! Bitte senden Sie Hilfe!'"
      ]
     },
     "execution_count": 22,
     "metadata": {},
     "output_type": "execute_result"
    }
   ],
   "source": [
    "text = translation['translations'][0]['translation']\n",
    "text"
   ]
  },
  {
   "cell_type": "code",
   "execution_count": 26,
   "id": "70ccd18a",
   "metadata": {},
   "outputs": [],
   "source": [
    "with open('./help.mp3', 'wb') as audio_file:\n",
    "    res = textToSpeech.synthesize(text, accept = 'audio/mp3', voice = 'de-DE_BirgitV3Voice').get_result()\n",
    "    audio_file.write(res.content)"
   ]
  }
 ],
 "metadata": {
  "kernelspec": {
   "display_name": "Python 3 (ipykernel)",
   "language": "python",
   "name": "python3"
  },
  "language_info": {
   "codemirror_mode": {
    "name": "ipython",
    "version": 3
   },
   "file_extension": ".py",
   "mimetype": "text/x-python",
   "name": "python",
   "nbconvert_exporter": "python",
   "pygments_lexer": "ipython3",
   "version": "3.8.10"
  }
 },
 "nbformat": 4,
 "nbformat_minor": 5
}
